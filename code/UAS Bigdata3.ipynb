{
 "cells": [
  {
   "cell_type": "code",
   "execution_count": 317,
   "metadata": {},
   "outputs": [
    {
     "ename": "ImportError",
     "evalue": "cannot import name 'Adam' from 'keras.optimizers' (C:\\Users\\ACER\\anaconda3\\lib\\site-packages\\keras\\optimizers.py)",
     "output_type": "error",
     "traceback": [
      "\u001b[1;31m---------------------------------------------------------------------------\u001b[0m",
      "\u001b[1;31mImportError\u001b[0m                               Traceback (most recent call last)",
      "\u001b[1;32m<ipython-input-317-38ddbaf60297>\u001b[0m in \u001b[0;36m<module>\u001b[1;34m\u001b[0m\n\u001b[0;32m     16\u001b[0m \u001b[1;32mfrom\u001b[0m \u001b[0mkeras\u001b[0m\u001b[1;33m.\u001b[0m\u001b[0mlayers\u001b[0m \u001b[1;32mimport\u001b[0m \u001b[0mDropout\u001b[0m\u001b[1;33m\u001b[0m\u001b[1;33m\u001b[0m\u001b[0m\n\u001b[0;32m     17\u001b[0m \u001b[1;32mfrom\u001b[0m \u001b[0mkeras\u001b[0m\u001b[1;33m.\u001b[0m\u001b[0mlayers\u001b[0m \u001b[1;32mimport\u001b[0m \u001b[0mLSTM\u001b[0m\u001b[1;33m\u001b[0m\u001b[1;33m\u001b[0m\u001b[0m\n\u001b[1;32m---> 18\u001b[1;33m \u001b[1;32mfrom\u001b[0m \u001b[0mkeras\u001b[0m\u001b[1;33m.\u001b[0m\u001b[0moptimizers\u001b[0m \u001b[1;32mimport\u001b[0m \u001b[0mAdam\u001b[0m\u001b[1;33m,\u001b[0m \u001b[0mAdamax\u001b[0m\u001b[1;33m,\u001b[0m \u001b[0mRMSprop\u001b[0m\u001b[1;33m,\u001b[0m \u001b[0mSGD\u001b[0m\u001b[1;33m\u001b[0m\u001b[1;33m\u001b[0m\u001b[0m\n\u001b[0m\u001b[0;32m     19\u001b[0m \u001b[1;33m\u001b[0m\u001b[0m\n\u001b[0;32m     20\u001b[0m \u001b[1;31m# Early stoping\u001b[0m\u001b[1;33m\u001b[0m\u001b[1;33m\u001b[0m\u001b[1;33m\u001b[0m\u001b[0m\n",
      "\u001b[1;31mImportError\u001b[0m: cannot import name 'Adam' from 'keras.optimizers' (C:\\Users\\ACER\\anaconda3\\lib\\site-packages\\keras\\optimizers.py)"
     ]
    }
   ],
   "source": [
    "import pandas as pd\n",
    "import netCDF4\n",
    "import matplotlib.pyplot as plt\n",
    "import numpy as np\n",
    "import itertools\n",
    "import tensorflow as tf\n",
    "\n",
    "from sklearn.preprocessing import MinMaxScaler\n",
    "from sklearn.model_selection import train_test_split\n",
    "from keras.wrappers.scikit_learn import KerasClassifier\n",
    "from keras.wrappers.scikit_learn import KerasRegressor\n",
    "from sklearn.model_selection import GridSearchCV\n",
    "\n",
    "from keras.models import Sequential\n",
    "from keras.layers import Dense\n",
    "from keras.layers import Dropout\n",
    "from keras.layers import LSTM\n",
    "from keras.optimizers import Adam, Adamax, RMSprop, SGD\n",
    "\n",
    "# Early stoping\n",
    "from keras.callbacks import EarlyStopping\n",
    "from keras.callbacks import ModelCheckpoint\n",
    "\n",
    "# Pustaka untuk  evaluasi model prediksi\n",
    "from math import sqrt\n",
    "from sklearn.metrics import mean_squared_error\n",
    "\n",
    "# pustaka untuk waktu komputasi\n",
    "import time\n",
    "from datetime import datetime"
   ]
  },
  {
   "cell_type": "markdown",
   "metadata": {},
   "source": [
    "### Praproses data CRU TS"
   ]
  },
  {
   "cell_type": "code",
   "execution_count": null,
   "metadata": {},
   "outputs": [],
   "source": [
    "# https://help.ceda.ac.uk/article/4728-cru-data-python-example\n",
    "\n",
    "# 'lat' for latitudes\n",
    "# 'lon' for longitudes\n",
    "# 'time' for time\n",
    "\n",
    "# cloud cover (cld), diurnal temperature range (dtr), frost day frequency (frs), precipitation (pre), \n",
    "# daily mean temperature (tmp), monthly average daily maximum (tmx) and minimum (tmn) temperature,\n",
    "# vapour pressure (vap), Potential Evapo-transpiration (pet) and wet day frequency (wet)\n",
    "\n",
    "variabel = ['cld', 'dtr', 'frs', 'pet', 'pre', 'tmn', 'tmp', 'tmx', 'vap', 'wet']\n",
    "fp=[r'D:\\UIN\\BigData\\UAS\\dataset\\ceda\\cru_ts4.05.2001.2010.cld.dat.nc',\n",
    "    r'D:\\UIN\\BigData\\UAS\\dataset\\ceda\\cru_ts4.05.2001.2010.dtr.dat.nc',\n",
    "    r'D:\\UIN\\BigData\\UAS\\dataset\\ceda\\cru_ts4.05.2001.2010.frs.dat.nc',\n",
    "    r'D:\\UIN\\BigData\\UAS\\dataset\\ceda\\cru_ts4.05.2001.2010.pet.dat.nc',\n",
    "    r'D:\\UIN\\BigData\\UAS\\dataset\\ceda\\cru_ts4.05.2001.2010.pre.dat.nc',\n",
    "    r'D:\\UIN\\BigData\\UAS\\dataset\\ceda\\cru_ts4.05.2001.2010.tmn.dat.nc',\n",
    "    r'D:\\UIN\\BigData\\UAS\\dataset\\ceda\\cru_ts4.05.2001.2010.tmp.dat.nc',\n",
    "    r'D:\\UIN\\BigData\\UAS\\dataset\\ceda\\cru_ts4.05.2001.2010.tmx.dat.nc',\n",
    "    r'D:\\UIN\\BigData\\UAS\\dataset\\ceda\\cru_ts4.05.2001.2010.vap.dat.nc',\n",
    "    r'D:\\UIN\\BigData\\UAS\\dataset\\ceda\\cru_ts4.05.2001.2010.wet.dat.nc']\n",
    "\n",
    "# buat dataframe berisi time, lat, lon\n",
    "data= netCDF4.Dataset(fp[0])\n",
    "time = data.variables['time'][:]\n",
    "lat = data.variables['lat'][:]\n",
    "lon = data.variables['lon'][:]\n",
    "stn = data.variables['stn'][:]\n",
    "\n",
    "\n",
    "# kolom date\n",
    "d = pd.date_range(start='1/1/2001', end='12/1/2010', freq='MS').date\n",
    "date = np.array(d)\n",
    "date = np.repeat(date, 259200)\n",
    "df_2001_2010 = pd.DataFrame(date, columns = ['date'])\n",
    "\n",
    "# kolom lat(360), lon(720)\n",
    "lons,lats = np.meshgrid(data.variables['lon'][:], data.variables['lat'][:]) \n",
    "x,y = map(lons, lats)\n",
    "x = x.flatten()\n",
    "y = y.flatten()\n",
    "\n",
    "x = np.tile(x,120)\n",
    "y = np.tile(y,120)\n",
    "\n",
    "df_2001_2010['latitude'] = y\n",
    "df_2001_2010['longitude'] = x\n",
    "\n",
    "# sld\n",
    "sld = data.variables[variabel[0]][:]\n",
    "sld= np.array(sld)\n",
    "sld= sld.flatten()\n",
    "df_2001_2010['sld'] = sld\n",
    "\n",
    "\n",
    "# tambah kolom variabel bebas lain\n",
    "for i in range(1,len(fp)):\n",
    "    data= netCDF4.Dataset(fp[i])\n",
    "    temp = data.variables[variabel[i]][:]\n",
    "    temp= np.array(temp)\n",
    "    temp= temp.flatten()\n",
    "    df_2001_2010[variabel[i]] = temp\n",
    "\n",
    "# print(df_2001_2010)\n",
    "\n",
    "# max, min\n",
    "lat_indo = [5.6701, -10.934]\n",
    "lon_indo = [140.9419, 95.1345]\n",
    "\n",
    "df_2001_2010 = df_2001_2010.drop(df_2001_2010[(df_2001_2010['latitude'] > lat_indo[0]) | (df_2001_2010['latitude'] < lat_indo[1])].index)\n",
    "df_2001_2010 = df_2001_2010.drop(df_2001_2010[(df_2001_2010['longitude'] > lon_indo[0]) | (df_2001_2010['longitude'] < lon_indo[1])].index)\n",
    "print(len(df_2001_2010))\n",
    "\n",
    "\n",
    "# df_2001_2010.to_csv(r'D:\\UIN\\BigData\\UAS\\hasil\\ceda_2001_2010_indo.csv')"
   ]
  },
  {
   "cell_type": "code",
   "execution_count": 321,
   "metadata": {},
   "outputs": [
    {
     "name": "stdout",
     "output_type": "stream",
     "text": [
      "364320\n"
     ]
    }
   ],
   "source": [
    "# https://help.ceda.ac.uk/article/4728-cru-data-python-example\n",
    "import pandas as pd\n",
    "import netCDF4\n",
    "import matplotlib.pyplot as plt\n",
    "import numpy as np\n",
    "\n",
    "# 'lat' for latitudes\n",
    "# 'lon' for longitudes\n",
    "# 'time' for time\n",
    "# 'tmp' for near surface temperature\n",
    "variabel = ['cld', 'dtr', 'frs', 'pet', 'pre', 'tmn', 'tmp', 'tmx', 'vap', 'wet']\n",
    "fp=[r'D:\\UIN\\BigData\\UAS\\dataset\\ceda\\cru_ts4.05.2011.2020.cld.dat.nc',\n",
    "    r'D:\\UIN\\BigData\\UAS\\dataset\\ceda\\cru_ts4.05.2011.2020.dtr.dat.nc',\n",
    "    r'D:\\UIN\\BigData\\UAS\\dataset\\ceda\\cru_ts4.05.2011.2020.frs.dat.nc',\n",
    "    r'D:\\UIN\\BigData\\UAS\\dataset\\ceda\\cru_ts4.05.2011.2020.pet.dat.nc',\n",
    "    r'D:\\UIN\\BigData\\UAS\\dataset\\ceda\\cru_ts4.05.2011.2020.pre.dat.nc',\n",
    "    r'D:\\UIN\\BigData\\UAS\\dataset\\ceda\\cru_ts4.05.2011.2020.tmn.dat.nc',\n",
    "    r'D:\\UIN\\BigData\\UAS\\dataset\\ceda\\cru_ts4.05.2011.2020.tmp.dat.nc',\n",
    "    r'D:\\UIN\\BigData\\UAS\\dataset\\ceda\\cru_ts4.05.2011.2020.tmx.dat.nc',\n",
    "    r'D:\\UIN\\BigData\\UAS\\dataset\\ceda\\cru_ts4.05.2011.2020.vap.dat.nc',\n",
    "    r'D:\\UIN\\BigData\\UAS\\dataset\\ceda\\cru_ts4.05.2011.2020.wet.dat.nc']\n",
    "\n",
    "# buat dataframe berisi time, lat, lon\n",
    "data= netCDF4.Dataset(fp[0])\n",
    "time = data.variables['time'][:]\n",
    "lat = data.variables['lat'][:]\n",
    "lon = data.variables['lon'][:]\n",
    "stn = data.variables['stn'][:]\n",
    "\n",
    "# kolom date\n",
    "d = pd.date_range(start='1/1/2011', end='12/1/2020', freq='MS').date\n",
    "date = np.array(d)\n",
    "date = np.repeat(date, 259200)\n",
    "df_2011_2020 = pd.DataFrame(date, columns = ['date'])\n",
    "\n",
    "# kolom lat(360), lon(720)\n",
    "lons,lats = np.meshgrid(data.variables['lon'][:], data.variables['lat'][:]) \n",
    "x,y = map(lons, lats)\n",
    "x = x.flatten()\n",
    "y = y.flatten()\n",
    "\n",
    "x = np.tile(x,120)\n",
    "y = np.tile(y,120)\n",
    "\n",
    "df_2011_2020['latitude'] = y\n",
    "df_2011_2020['longitude'] = x\n",
    "\n",
    "# sld\n",
    "sld = data.variables[variabel[0]][:]\n",
    "sld= np.array(sld)\n",
    "sld= sld.flatten()\n",
    "df_2011_2020['sld'] = sld\n",
    "\n",
    "# tambah kolom variabel bebas lain\n",
    "for i in range(1,len(fp)):\n",
    "    data= netCDF4.Dataset(fp[i])\n",
    "    temp = data.variables[variabel[i]][:]\n",
    "    temp= np.array(temp)\n",
    "    temp= temp.flatten()\n",
    "    df_2011_2020[variabel[i]] = temp\n",
    "\n",
    "# print(df_2011_2020)\n",
    "\n",
    "# max, min\n",
    "lat_indo = [5.6701, -10.934]\n",
    "lon_indo = [140.9419, 95.1345]\n",
    "\n",
    "df_2011_2020 = df_2011_2020.drop(df_2011_2020[(df_2011_2020['latitude'] > lat_indo[0]) | (df_2011_2020['latitude'] < lat_indo[1])].index)\n",
    "df_2011_2020 = df_2011_2020.drop(df_2011_2020[(df_2011_2020['longitude'] > lon_indo[0]) | (df_2011_2020['longitude'] < lon_indo[1])].index)\n",
    "print(len(df_2011_2020))\n",
    "\n",
    "\n",
    "# df_2011_2020.to_csv(r'D:\\UIN\\BigData\\UAS\\hasil\\ceda_2001_2010_indo.csv')"
   ]
  },
  {
   "cell_type": "code",
   "execution_count": 200,
   "metadata": {},
   "outputs": [
    {
     "name": "stdout",
     "output_type": "stream",
     "text": [
      "728640\n"
     ]
    }
   ],
   "source": [
    "# gabungkan data\n",
    "frames = [df_2001_2010, df_2011_2020]\n",
    "  \n",
    "df_2001_2020 = pd.concat(frames)\n",
    "print(len(df_2001_2020))\n",
    "\n",
    "# df_2001_2020.to_csv(r'D:\\UIN\\BigData\\UAS\\hasil\\ceda_2001_2020_indo.csv')"
   ]
  },
  {
   "cell_type": "markdown",
   "metadata": {},
   "source": [
    "### Read Dataset"
   ]
  },
  {
   "cell_type": "code",
   "execution_count": 281,
   "metadata": {},
   "outputs": [
    {
     "name": "stdout",
     "output_type": "stream",
     "text": [
      "         Bulan       Suhu  Kelembapan  Curah_Hujan  Radiasi_Matahari  \\\n",
      "0    2001-01-1  26.167742   88.548387    13.783871          2.822581   \n",
      "1    2001-02-1  26.589286   85.750000     7.760714          3.821429   \n",
      "2    2001-03-1  26.841935   84.161290    10.835484          4.083871   \n",
      "3    2001-04-1  27.340000   84.466667    13.856667          4.726667   \n",
      "4    2001-05-1  27.441935   86.161290     4.708065          5.029032   \n",
      "..         ...        ...         ...          ...               ...   \n",
      "235  2020-08-1  28.270968   79.483871     1.803226          6.122581   \n",
      "236  2020-09-1  27.975000   80.066667     5.616667          4.438333   \n",
      "237  2020-10-1  27.629032   83.838710     9.191935          3.938710   \n",
      "238  2020-11-1  27.573333   84.600000    14.250000          4.693333   \n",
      "239  2020-12-1  27.058065   86.741935    12.998387          3.019355   \n",
      "\n",
      "     Kecepatan_Angin  hotspot  \n",
      "0           1.838710        3  \n",
      "1           1.821429        5  \n",
      "2           0.580645       10  \n",
      "3           0.266667       20  \n",
      "4           1.032258       39  \n",
      "..               ...      ...  \n",
      "235         2.064516       65  \n",
      "236         1.966667       30  \n",
      "237         1.225806       40  \n",
      "238         1.266667       30  \n",
      "239         1.548387        8  \n",
      "\n",
      "[240 rows x 7 columns]\n",
      "           date        sld       dtr  frs       pet         pre        tmn  \\\n",
      "0    2001/01/01  77.593334  8.153333    0  3.200000  365.910003  22.406667   \n",
      "1    2001/02/01  73.816667  8.280000    0  3.363333  237.830002  22.513334   \n",
      "2    2001/03/01  70.870001  9.173334    0  3.516667  313.306670  22.576667   \n",
      "3    2001/04/01  70.140000  9.293333    0  3.360000  356.033337  22.750000   \n",
      "4    2001/05/01  68.176667  9.223334    0  3.230000  121.583334  23.216667   \n",
      "..          ...        ...       ...  ...       ...         ...        ...   \n",
      "235  2020/08/01  63.940001  9.330000    0  3.923333   77.693334  23.336667   \n",
      "236  2020/09/01  70.646668  9.300000    0  3.703333  177.706669  22.656667   \n",
      "237  2020/10/01  71.736667  9.360000    0  3.786667  374.136673  23.246667   \n",
      "238  2020/11/01  76.980001  8.756667    0  3.343333  269.350005  22.956667   \n",
      "239  2020/12/01  76.330001  7.880000    0  3.353333  354.486671  23.106667   \n",
      "\n",
      "           tmp        tmx        vap        wet  hotspot  \n",
      "0    26.456667  30.560000  29.366667  24.025000        3  \n",
      "1    26.633334  30.793334  29.673333  18.637666        5  \n",
      "2    27.136667  31.750000  30.143334  23.308333       10  \n",
      "3    27.373333  32.043334  30.910000  21.977666       20  \n",
      "4    27.800000  32.440000  31.453334  12.826333       39  \n",
      "..         ...        ...        ...        ...      ...  \n",
      "235  27.973333  32.666667  27.943333  16.076666       65  \n",
      "236  27.283333  31.956667  28.023334  21.089333       30  \n",
      "237  27.893333  32.606667  28.643333  27.976666       40  \n",
      "238  27.296667  31.713334  29.566667  25.940333       30  \n",
      "239  27.020000  30.986667  28.696667  25.750333        8  \n",
      "\n",
      "[240 rows x 12 columns]\n"
     ]
    }
   ],
   "source": [
    "# baca dataset bmkg\n",
    "df_bmkg = pd.read_csv(r'D:\\UIN\\BigData\\UAS\\hasil\\bmkg_2001_2020_sumsel_clipped.csv')\n",
    "df_bmkg = df_bmkg.drop(columns=['Unnamed: 0'])\n",
    "print(df_bmkg)\n",
    "\n",
    "# df yang disimpan memiliki 3 buah titik(long, lat) untuk tiap tanggal\n",
    "# tiap param akan dikalkulasi meannya\n",
    "# sehingga tidak ada duplikasi tanggal\n",
    "\n",
    "# df_ceda = pd.read_csv(r'D:\\UIN\\BigData\\UAS\\hasil\\ceda_2001_2020_sumsel_clipped.csv')\n",
    "# df_ceda = df_ceda.drop(columns=['field_1', 'latitude', 'longitude'])\n",
    "# df_ceda = df_ceda.groupby('date').mean()\n",
    "\n",
    "# baca dataset ceda\n",
    "df_ceda = pd.read_csv(r'D:\\UIN\\BigData\\UAS\\hasil\\ceda_2001_2020_sumsel_clipped2.csv')\n",
    "# copy hotspot karena variabel terikat sama\n",
    "df_ceda['hotspot'] = df_bmkg['hotspot']\n",
    "print(df_ceda)\n",
    "\n"
   ]
  },
  {
   "cell_type": "markdown",
   "metadata": {},
   "source": [
    "### Normalisasi"
   ]
  },
  {
   "cell_type": "code",
   "execution_count": 288,
   "metadata": {},
   "outputs": [
    {
     "name": "stdout",
     "output_type": "stream",
     "text": [
      "Index(['date', 'sld', 'dtr', 'frs', 'pet', 'pre', 'tmn', 'tmp', 'tmx', 'vap',\n",
      "       'wet', 'hotspot'],\n",
      "      dtype='object')\n",
      "         Bulan      Suhu  Kelembapan  Curah_Hujan  Radiasi_Matahari  \\\n",
      "0    2001-01-1  0.082707    0.859287     0.557433          0.292132   \n",
      "1    2001-02-1  0.223070    0.724245     0.313851          0.452944   \n",
      "2    2001-03-1  0.307197    0.647579     0.438197          0.495196   \n",
      "3    2001-04-1  0.473040    0.662315     0.560377          0.598684   \n",
      "4    2001-05-1  0.506982    0.744093     0.190399          0.647364   \n",
      "..         ...       ...         ...          ...               ...   \n",
      "235  2020-08-1  0.783029    0.421860     0.072924          0.823422   \n",
      "236  2020-09-1  0.684479    0.449984     0.227143          0.552263   \n",
      "237  2020-10-1  0.569280    0.632012     0.371730          0.471825   \n",
      "238  2020-11-1  0.550734    0.668750     0.576283          0.593318   \n",
      "239  2020-12-1  0.379162    0.772113     0.525667          0.323812   \n",
      "\n",
      "     Kecepatan_Angin  hotspot  \n",
      "0           0.593750        3  \n",
      "1           0.588170        5  \n",
      "2           0.187500       10  \n",
      "3           0.086111       20  \n",
      "4           0.333333       39  \n",
      "..               ...      ...  \n",
      "235         0.666667       65  \n",
      "236         0.635069       30  \n",
      "237         0.395833       40  \n",
      "238         0.409028       30  \n",
      "239         0.500000        8  \n",
      "\n",
      "[240 rows x 7 columns]\n",
      "           date       sld       dtr  frs       pet       pre       tmn  \\\n",
      "0    2001/01/01  0.956338  0.262262  0.0  0.221854  0.786905  0.227972   \n",
      "1    2001/02/01  0.785757  0.300300  0.0  0.384106  0.499506  0.272727   \n",
      "2    2001/03/01  0.652665  0.568569  0.0  0.536424  0.668868  0.299301   \n",
      "3    2001/04/01  0.619693  0.604605  0.0  0.380795  0.764742  0.372028   \n",
      "4    2001/05/01  0.531015  0.583584  0.0  0.251656  0.238661  0.567832   \n",
      "..          ...       ...       ...  ...       ...       ...       ...   \n",
      "235  2020/08/01  0.339657  0.615616  0.0  0.940397  0.140176  0.618182   \n",
      "236  2020/09/01  0.642578  0.606607  0.0  0.721854  0.364596  0.332867   \n",
      "237  2020/10/01  0.691810  0.624625  0.0  0.804636  0.805364  0.580420   \n",
      "238  2020/11/01  0.928636  0.443443  0.0  0.364238  0.570234  0.458741   \n",
      "239  2020/12/01  0.899277  0.180180  0.0  0.374172  0.761272  0.521678   \n",
      "\n",
      "          tmp       tmx       vap       wet  hotspot  \n",
      "0    0.141936  0.203371  0.363488  0.771020        3  \n",
      "1    0.227419  0.282022  0.438468  0.556308        5  \n",
      "2    0.470968  0.604494  0.553382  0.742457       10  \n",
      "3    0.585484  0.703371  0.740831  0.689424       20  \n",
      "4    0.791935  0.837079  0.873676  0.324698       39  \n",
      "..        ...       ...       ...       ...      ...  \n",
      "235  0.875806  0.913483  0.015485  0.454240       65  \n",
      "236  0.541935  0.674157  0.035045  0.654019       30  \n",
      "237  0.837097  0.893258  0.186634  0.928514       40  \n",
      "238  0.548387  0.592135  0.412388  0.847356       30  \n",
      "239  0.414516  0.347191  0.199674  0.839783        8  \n",
      "\n",
      "[240 rows x 12 columns]\n"
     ]
    }
   ],
   "source": [
    "# dataset bmkg\n",
    "scaler = MinMaxScaler()\n",
    "df_bmkg[['Suhu', 'Kelembapan', 'Curah_Hujan', 'Radiasi_Matahari', 'Kecepatan_Angin']] = scaler.fit_transform(df_bmkg[['Suhu', 'Kelembapan', 'Curah_Hujan', 'Radiasi_Matahari', 'Kecepatan_Angin']])\n",
    "print(df_bmkg)\n",
    "\n",
    "# dataset ceda\n",
    "df_ceda[['sld', 'dtr', 'frs', 'pet', 'pre', 'tmn', 'tmp', 'tmx', 'vap', 'wet']] = scaler.fit_transform(df_ceda[['sld', 'dtr', 'frs', 'pet', 'pre', 'tmn', 'tmp', 'tmx', 'vap', 'wet']])\n",
    "print(df_ceda)"
   ]
  },
  {
   "cell_type": "markdown",
   "metadata": {},
   "source": [
    "### Visualisasi"
   ]
  },
  {
   "cell_type": "code",
   "execution_count": 318,
   "metadata": {},
   "outputs": [],
   "source": [
    "filename = r'D:\\UIN\\BigData\\UAS\\dataset\\ceda\\cru_ts4.05.2001.2010.tmp.dat.nc'\n",
    "data = netCDF4.Dataset(filename)\n",
    "temp = data.variables['tmp'][:]\n",
    "temp_av_2001_2010= np.mean(temp[:,:,:],axis = 0)"
   ]
  },
  {
   "cell_type": "code",
   "execution_count": 319,
   "metadata": {},
   "outputs": [
    {
     "name": "stderr",
     "output_type": "stream",
     "text": [
      "<ipython-input-319-fad7996f494f>:7: MatplotlibDeprecationWarning: The 'extend' parameter to Colorbar has no effect because it is overridden by the mappable; it is deprecated since 3.3 and will be removed two minor releases later.\n",
      "  cb = map.colorbar(temp_plot, \"bottom\", size=\"5%\", pad=\"2%\", extend = 'both')\n"
     ]
    },
    {
     "data": {
      "image/png": "[encoded data removed]",
      "text/plain": [
       "<Figure size 432x288 with 2 Axes>"
      ]
     },
     "metadata": {
      "needs_background": "light"
     },
     "output_type": "display_data"
    }
   ],
   "source": [
    "plt.figure()\n",
    "map = Basemap(projection=\"cyl\", resolution='c', llcrnrlat=-90, urcrnrlat=90, llcrnrlon=-180, urcrnrlon=180) \n",
    "map.drawcoastlines(color=\"black\") \n",
    "lons,lats = np.meshgrid(data.variables['lon'][:], data.variables['lat'][:]) \n",
    "x,y = map(lons, lats)\n",
    "temp_plot = map.contourf(x, y, temp_av_2001_2010, cmap=plt.cm.viridis) \n",
    "cb = map.colorbar(temp_plot, \"bottom\", size=\"5%\", pad=\"2%\", extend = 'both')\n",
    "cb.set_label(u\"Temperature \\u2103\")\n",
    "plt.title(\"Mean Temperature (1901-2017)\")\n",
    "plt.annotate('Data - CRU TS v4.02',(-178,-88), fontsize=6)\n",
    "plt.show()"
   ]
  },
  {
   "cell_type": "code",
   "execution_count": 320,
   "metadata": {},
   "outputs": [
    {
     "data": {
      "image/png": "[encoded data removed]",
      "text/plain": [
       "<Figure size 432x288 with 1 Axes>"
      ]
     },
     "metadata": {
      "needs_background": "light"
     },
     "output_type": "display_data"
    },
    {
     "data": {
      "text/plain": [
       "<Figure size 432x288 with 0 Axes>"
      ]
     },
     "metadata": {},
     "output_type": "display_data"
    }
   ],
   "source": [
    "global_average= np.mean(temp[:,:,:],axis=(1,2))\n",
    "annual_temp = np.mean(np.reshape(global_average, (10,12)), axis = 1)\n",
    "av_2001_2010=np.mean(annual_temp)\n",
    "\n",
    "temp_anomaly = annual_temp - av_2001_2010\n",
    "\n",
    "plt.figure()\n",
    "plt.plot(np.arange(2001,2011,1),temp_anomaly)\n",
    "plt.ylim(np.floor(min(temp_anomaly)), np.ceil(max(temp_anomaly))) \n",
    "plt.title(\"Global Average Temperature Anomaly (2001-2010)\")\n",
    "plt.xlabel(\"Years\") \n",
    "plt.ylabel(u\"Difference from 1961-1990 average (\\u2103)\") \n",
    "plt.show()\n",
    "plt.savefig('temp_anom_ts.png')"
   ]
  },
  {
   "cell_type": "code",
   "execution_count": 290,
   "metadata": {},
   "outputs": [],
   "source": [
    "# monthly = global_average\n",
    "# plt.figure()\n",
    "# plt.plot(time,monthly)\n",
    "# plt.ylim(np.floor(min(monthly)), np.ceil(max(monthly))) \n",
    "# plt.title(\"Global Average Temperature Anomaly (1901-2017)\")\n",
    "# plt.xlabel(\"Years\") \n",
    "# plt.ylabel(u\"Difference from 1961-1990 average (\\u2103)\") \n",
    "# plt.show()"
   ]
  },
  {
   "cell_type": "markdown",
   "metadata": {},
   "source": [
    "### pembagian data"
   ]
  },
  {
   "cell_type": "code",
   "execution_count": 302,
   "metadata": {},
   "outputs": [
    {
     "name": "stdout",
     "output_type": "stream",
     "text": [
      "(192, 10) (48, 10) (192,) (48,)\n"
     ]
    }
   ],
   "source": [
    "# Split Validasi(train 80%, test 20%)\n",
    "\n",
    "## dataset bmkg\n",
    "bmkg_x = df_bmkg[['Suhu', 'Kelembapan', 'Curah_Hujan', 'Radiasi_Matahari', 'Kecepatan_Angin']]\n",
    "bmkg_y = df_bmkg['hotspot']\n",
    "x_train_bmkg, x_test_bmkg, y_train_bmkg, y_test_bmkg = train_test_split(bmkg_x, bmkg_y, test_size=0.2, random_state=1)\n",
    "\n",
    "## dataset ceda\n",
    "ceda_x = df_ceda[['sld', 'dtr', 'frs', 'pet', 'pre', 'tmn', 'tmp', 'tmx', 'vap', 'wet']]\n",
    "ceda_y = df_ceda['hotspot']\n",
    "x_train_ceda, x_test_ceda, y_train_ceda, y_test_ceda = train_test_split(ceda_x, ceda_y, test_size=0.2, random_state=1)\n",
    "\n",
    "print(x_train_ceda.shape, x_test_ceda.shape, y_train_ceda.shape, y_test_ceda.shape)"
   ]
  },
  {
   "cell_type": "markdown",
   "metadata": {},
   "source": [
    "### pembuatan arsitektur NN : Hyperparameter GridSearchCV LTSM-RNN"
   ]
  },
  {
   "cell_type": "code",
   "execution_count": 313,
   "metadata": {},
   "outputs": [],
   "source": [
    "# parameter\n",
    "parameters = {'neurons' : [8, 16],\n",
    "              'activation' : ['sigmoid', 'tanh', 'relu', 'selu', 'elu', 'softplus'],\n",
    "              'optimizer' : ['adam', 'adamax', 'rmsprop', 'sgd'],\n",
    "              'dropout_rate' : [0.1],\n",
    "              'epochs' : [260, 500, 1000, 1500, 2000],\n",
    "              'batch_size' : [8, 16, 32, 64],\n",
    "              'verbose' : [0]}"
   ]
  },
  {
   "cell_type": "code",
   "execution_count": 314,
   "metadata": {},
   "outputs": [
    {
     "name": "stdout",
     "output_type": "stream",
     "text": [
      "960 kombinasi hyperparameter\n"
     ]
    }
   ],
   "source": [
    "keys = parameters.keys()\n",
    "values = (parameters[key] for key in keys)\n",
    "combinations = [dict(zip(keys, combination)) for combination in itertools.product(*values)]\n",
    "print(len(combinations), str('kombinasi hyperparameter'))"
   ]
  },
  {
   "cell_type": "code",
   "execution_count": 315,
   "metadata": {},
   "outputs": [],
   "source": [
    "def build_classifier(neurons='', activation='', optimizer='', dropout_rate=''):\n",
    "    tf.keras.backend.clear_session()\n",
    "    \n",
    "    # design network\n",
    "    grid_model = Sequential()\n",
    "    grid_model.add(LSTM(units=neurons, activation=activation, input_shape=(train_X.shape[1], train_X.shape[2])))\n",
    "    grid_model.add(Dropout(dropout_rate))\n",
    "    grid_model.add(Dense(1))\n",
    "\n",
    "    # model compile\n",
    "    grid_model.compile(loss='mae', optimizer=optimizer)\n",
    "    \n",
    "    # return value\n",
    "    return grid_model"
   ]
  },
  {
   "cell_type": "code",
   "execution_count": 316,
   "metadata": {},
   "outputs": [
    {
     "name": "stderr",
     "output_type": "stream",
     "text": [
      "<ipython-input-316-7861529788ff>:1: DeprecationWarning: KerasRegressor is deprecated, use Sci-Keras (https://github.com/adriangb/scikeras) instead.\n",
      "  grid_model = KerasRegressor(build_fn=build_classifier)\n"
     ]
    }
   ],
   "source": [
    "grid_model = KerasRegressor(build_fn=build_classifier)"
   ]
  },
  {
   "cell_type": "code",
   "execution_count": null,
   "metadata": {},
   "outputs": [],
   "source": [
    "grid_search = GridSearchCV(estimator=grid_model, param_grid=parameters, n_jobs=-1, cv=2, scoring= 'neg_root_mean_squared_error')"
   ]
  },
  {
   "cell_type": "code",
   "execution_count": null,
   "metadata": {},
   "outputs": [],
   "source": [
    "grid_result = grid_search.fit(x_train_bmkg, y_train_bmkg)"
   ]
  },
  {
   "cell_type": "code",
   "execution_count": null,
   "metadata": {},
   "outputs": [],
   "source": [
    "# summarize results\n",
    "print(\"Best parameters: %f using %s\\n\" % (grid_search.best_score_, grid_search.best_params_))\n",
    "\n",
    "means = grid_search.cv_results_['mean_test_score']\n",
    "stds = grid_search.cv_results_['std_test_score']\n",
    "params = grid_search.cv_results_['params']\n",
    "for mean, stdev, param in zip(means, stds, params):\n",
    "    print(\"%f (%f) with: %r\" % (mean, stdev, param))"
   ]
  },
  {
   "cell_type": "markdown",
   "metadata": {},
   "source": [
    "### deep learning"
   ]
  },
  {
   "cell_type": "code",
   "execution_count": null,
   "metadata": {},
   "outputs": [],
   "source": []
  },
  {
   "cell_type": "code",
   "execution_count": null,
   "metadata": {},
   "outputs": [],
   "source": []
  },
  {
   "cell_type": "markdown",
   "metadata": {},
   "source": [
    "### rmse dan waktu"
   ]
  },
  {
   "cell_type": "code",
   "execution_count": null,
   "metadata": {},
   "outputs": [],
   "source": []
  }
 ],
 "metadata": {
  "kernelspec": {
   "display_name": "Python 3",
   "language": "python",
   "name": "python3"
  },
  "language_info": {
   "codemirror_mode": {
    "name": "ipython",
    "version": 3
   },
   "file_extension": ".py",
   "mimetype": "text/x-python",
   "name": "python",
   "nbconvert_exporter": "python",
   "pygments_lexer": "ipython3",
   "version": "3.8.5"
  }
 },
 "nbformat": 4,
 "nbformat_minor": 4
}
